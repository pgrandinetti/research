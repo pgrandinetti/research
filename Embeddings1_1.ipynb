{
  "nbformat": 4,
  "nbformat_minor": 0,
  "metadata": {
    "colab": {
      "name": "Embeddings1.1.ipynb",
      "provenance": [],
      "collapsed_sections": [],
      "authorship_tag": "ABX9TyMnp4v0Q9JEa8Bi0iI1nJXM",
      "include_colab_link": true
    },
    "kernelspec": {
      "name": "python3",
      "display_name": "Python 3"
    }
  },
  "cells": [
    {
      "cell_type": "markdown",
      "metadata": {
        "id": "view-in-github",
        "colab_type": "text"
      },
      "source": [
        "<a href=\"https://colab.research.google.com/github/pgrandinetti/research/blob/master/Embeddings1_1.ipynb\" target=\"_parent\"><img src=\"https://colab.research.google.com/assets/colab-badge.svg\" alt=\"Open In Colab\"/></a>"
      ]
    },
    {
      "cell_type": "markdown",
      "metadata": {
        "id": "mlQPNjCeX7ZV",
        "colab_type": "text"
      },
      "source": [
        "# Introduction\n",
        "\n",
        "This notebook shows a simple experiment about word embeddings (dense vectors used to embed words meaning).\n",
        "\n",
        "The embeddings for two words `w1` and `w2` should be similar if these words appear often nearby a similar subset of words.\n",
        "\n",
        "Embeddings can be calculated optimizing a network architecture, as shown in [this tutorial](http://mccormickml.com/2016/04/19/word2vec-tutorial-the-skip-gram-model/)\n",
        "\n",
        "In their original formulation though, they were the result of a procedure purely based on optimization (SGD). In this notebook I will show a very simplified version of such procedure, to highlight the main points.\n",
        "\n",
        "  1. Initialize the embeddings to random values\n",
        "  2. Set the objective function as in the seminal [word2vec paper](https://arxiv.org/pdf/1301.3781.pdf)\n",
        "  3. Execute a (very) simplified SGD. Stop early, simply to show that nearby words start having very high value of the optimization variables."
      ]
    },
    {
      "cell_type": "code",
      "metadata": {
        "id": "ymweAHcOax7S",
        "colab_type": "code",
        "colab": {}
      },
      "source": [
        "import numpy as np\n",
        "%tensorflow_version 2.x\n",
        "import tensorflow as tf\n",
        "import matplotlib.pyplot as plt\n",
        "import unicodedata\n",
        "import re\n",
        "\n",
        "np.random.seed(1)\n",
        "tf.random.set_seed(1)"
      ],
      "execution_count": 0,
      "outputs": []
    },
    {
      "cell_type": "code",
      "metadata": {
        "id": "-lJido91a6y7",
        "colab_type": "code",
        "colab": {}
      },
      "source": [
        "corpus = [\n",
        "'They do not play games.',\n",
        "'She do not enjoy movies.',  # use \"do\" here too\n",
        "'You do not like politics.',\n",
        "'We do not eat meat.'\n",
        "]"
      ],
      "execution_count": 0,
      "outputs": []
    },
    {
      "cell_type": "markdown",
      "metadata": {
        "id": "ykHvn8IsbjHR",
        "colab_type": "text"
      },
      "source": [
        "## Preprocess text"
      ]
    },
    {
      "cell_type": "code",
      "metadata": {
        "id": "OPNFIH-GdUm3",
        "colab_type": "code",
        "colab": {}
      },
      "source": [
        "# https://www.tensorflow.org/tutorials/text/nmt_with_attention\n",
        "\n",
        "# Converts the unicode file to ascii\n",
        "def unicode_to_ascii(s):\n",
        "    return ''.join(\n",
        "        c for c in unicodedata.normalize('NFD', s)\n",
        "        if unicodedata.category(c) != 'Mn'\n",
        "    )\n",
        "\n",
        "\n",
        "def preprocess_sentence(w):\n",
        "    w = unicode_to_ascii(w.lower().strip())\n",
        "\n",
        "    # creating a space between a word and the punctuation following it\n",
        "    # eg: \"he is a boy.\" => \"he is a boy .\"\n",
        "    # Reference:- https://stackoverflow.com/questions/3645931/python-padding-punctuation-with-white-spaces-keeping-punctuation\n",
        "    w = re.sub(r\"([?.!,¿])\", r\" \\1 \", w)\n",
        "    w = re.sub(r'[\" \"]+', \" \", w)\n",
        "\n",
        "    # replacing everything with space except (a-z, A-Z, \".\", \"?\", \"!\", \",\")\n",
        "    w = re.sub(r\"[^a-zA-Z?.!,¿]+\", \" \", w)\n",
        "\n",
        "    w = w.rstrip().strip()\n",
        "\n",
        "    # adding a start and an end token to the sentence\n",
        "    # so that the model know when to start and stop predicting.\n",
        "    w = '<start> ' + w + ' <end>'\n",
        "    return w\n",
        "\n",
        "def tokenize(lang):\n",
        "    lang_tokenizer = tf.keras.preprocessing.text.Tokenizer(filters='')\n",
        "    lang_tokenizer.fit_on_texts(lang)\n",
        "    tensor = lang_tokenizer.texts_to_sequences(lang)\n",
        "    tensor = tf.keras.preprocessing.sequence.pad_sequences(tensor, padding='post')\n",
        "    return tensor, lang_tokenizer            "
      ],
      "execution_count": 0,
      "outputs": []
    },
    {
      "cell_type": "code",
      "metadata": {
        "id": "8I1E5QUygUA3",
        "colab_type": "code",
        "colab": {}
      },
      "source": [
        "def left_space(current, window_size):\n",
        "    # How much space is there on the left of the current position\n",
        "    # given the window size ?\n",
        "    if current >= window_size:\n",
        "        return window_size\n",
        "    else:\n",
        "        return current\n",
        "\n",
        "def right_space(current, sent_length, window_size):\n",
        "    # How much space is there on the right of the current position\n",
        "    # given the window size and the sentence total length?\n",
        "    if current >= sent_length - window_size:\n",
        "        return sent_length - current - 1\n",
        "    else:\n",
        "        return window_size\n",
        "\n",
        "def create_dataset(corpus, window_size):\n",
        "    # Create word mapping to int\n",
        "    word2Ind = {}\n",
        "    count = 0\n",
        "    sentences = []\n",
        "    for line in corpus:\n",
        "        sent = preprocess_sentence(line)\n",
        "        sentences.append(sent)\n",
        "        for token in sent.split():\n",
        "            if not token in word2Ind:\n",
        "                word2Ind[token] = count\n",
        "                count += 1\n",
        "    \n",
        "    # Create traninig set with sliding window\n",
        "    samples = []\n",
        "    for sentence in sentences:\n",
        "        sent = sentence.split()\n",
        "\n",
        "        for i, w in enumerate(sent):\n",
        "            # Get ID of center word\n",
        "            center = word2Ind[w]\n",
        "\n",
        "            # Compute how many words there are at the left of the center\n",
        "            left = left_space(i, window_size)\n",
        "\n",
        "            # Compute how many words there are at the right of the center\n",
        "            right = right_space(i, len(sent), window_size)\n",
        "\n",
        "            # Loop over the left-context\n",
        "            for l in np.arange(1, left+1):\n",
        "                # Get ID of this word\n",
        "                idx_ = word2Ind[sent[i-l]]\n",
        "                # add sample\n",
        "                samples.append([center, idx_])\n",
        "\n",
        "            # Do same for the right-context\n",
        "            for r in np.arange(1, right+1):\n",
        "                idx_ = word2Ind[sent[i+r]]\n",
        "                samples.append([center, idx_])\n",
        "    \n",
        "    # Reverse the word2Ind dictionary\n",
        "    ind2Word = {v: k for k, v in word2Ind.items()}\n",
        "\n",
        "    return word2Ind, samples, ind2Word"
      ],
      "execution_count": 0,
      "outputs": []
    },
    {
      "cell_type": "code",
      "metadata": {
        "id": "4Zxi9Y1aizc5",
        "colab_type": "code",
        "colab": {}
      },
      "source": [
        "# Utility fn to visualize all pairs in the training set\n",
        "def show_samples(samples, ind2Word):\n",
        "    for sample in samples:\n",
        "        print(f'{ind2Word[sample[0]]} ---> {ind2Word[sample[1]]}')"
      ],
      "execution_count": 0,
      "outputs": []
    },
    {
      "cell_type": "code",
      "metadata": {
        "id": "NcTYIHQ5ihc8",
        "colab_type": "code",
        "colab": {}
      },
      "source": [
        "# Build the dataset and the dictionary word->index, index->word\n",
        "\n",
        "window_size = 1 # 1 on the left and 1 on the right\n",
        "word2Ind, samples, ind2Word = create_dataset(corpus, window_size)"
      ],
      "execution_count": 0,
      "outputs": []
    },
    {
      "cell_type": "code",
      "metadata": {
        "id": "hwXQBMvNiu03",
        "colab_type": "code",
        "outputId": "b4a1e79c-7c4b-4a25-bb21-cf778ef15389",
        "colab": {
          "base_uri": "https://localhost:8080/",
          "height": 969
        }
      },
      "source": [
        "# look at all pairs in the dataset\n",
        "show_samples(samples, ind2Word)"
      ],
      "execution_count": 7,
      "outputs": [
        {
          "output_type": "stream",
          "text": [
            "<start> ---> they\n",
            "they ---> <start>\n",
            "they ---> do\n",
            "do ---> they\n",
            "do ---> not\n",
            "not ---> do\n",
            "not ---> play\n",
            "play ---> not\n",
            "play ---> games\n",
            "games ---> play\n",
            "games ---> .\n",
            ". ---> games\n",
            ". ---> <end>\n",
            "<end> ---> .\n",
            "<start> ---> she\n",
            "she ---> <start>\n",
            "she ---> do\n",
            "do ---> she\n",
            "do ---> not\n",
            "not ---> do\n",
            "not ---> enjoy\n",
            "enjoy ---> not\n",
            "enjoy ---> movies\n",
            "movies ---> enjoy\n",
            "movies ---> .\n",
            ". ---> movies\n",
            ". ---> <end>\n",
            "<end> ---> .\n",
            "<start> ---> you\n",
            "you ---> <start>\n",
            "you ---> do\n",
            "do ---> you\n",
            "do ---> not\n",
            "not ---> do\n",
            "not ---> like\n",
            "like ---> not\n",
            "like ---> politics\n",
            "politics ---> like\n",
            "politics ---> .\n",
            ". ---> politics\n",
            ". ---> <end>\n",
            "<end> ---> .\n",
            "<start> ---> we\n",
            "we ---> <start>\n",
            "we ---> do\n",
            "do ---> we\n",
            "do ---> not\n",
            "not ---> do\n",
            "not ---> eat\n",
            "eat ---> not\n",
            "eat ---> meat\n",
            "meat ---> eat\n",
            "meat ---> .\n",
            ". ---> meat\n",
            ". ---> <end>\n",
            "<end> ---> .\n"
          ],
          "name": "stdout"
        }
      ]
    },
    {
      "cell_type": "markdown",
      "metadata": {
        "id": "m3oBjwaPc_br",
        "colab_type": "text"
      },
      "source": [
        "## Optimization algorithm\n",
        "\n",
        "This is a very basic implementation of gradient descent, for the sake of illustration.\n",
        "\n",
        "The gradient is computed by using tensorflow's GradientTape object.\n",
        "\n"
      ]
    },
    {
      "cell_type": "code",
      "metadata": {
        "id": "rmPsUkLddsxH",
        "colab_type": "code",
        "colab": {}
      },
      "source": [
        "# Randomly initialize a d-dimensional vector of real numbers\n",
        "def init_vec(d):\n",
        "    v = np.random.uniform(size=d)\n",
        "    v /= v.sum()\n",
        "    return v"
      ],
      "execution_count": 0,
      "outputs": []
    },
    {
      "cell_type": "code",
      "metadata": {
        "id": "gWHSzy25d3FE",
        "colab_type": "code",
        "colab": {}
      },
      "source": [
        "def init_theta(V, d):\n",
        "    \"\"\"Random initialization of the optimization variables.\n",
        "\n",
        "    :param V: size of the vocabulary (num of words)\n",
        "    :param d: dimensionality of the embeddings\n",
        "\n",
        "    :return theta: Matrix with all vectors u,v. Even indices (0, 2, 4) are for the u.\n",
        "    \"\"\"\n",
        "    theta = np.zeros((2*V, d), dtype='float')\n",
        "    for i in range(2*V):\n",
        "        theta[i:] = init_vec(d)\n",
        "    return theta"
      ],
      "execution_count": 0,
      "outputs": []
    },
    {
      "cell_type": "code",
      "metadata": {
        "id": "jEC9IGjwgq5j",
        "colab_type": "code",
        "colab": {}
      },
      "source": [
        "# Embeddings dimensionality\n",
        "d = 10\n",
        "# Num of words in vocabulary\n",
        "V = len(word2Ind)\n",
        "# Initial condition for GD\n",
        "theta = init_theta(V, d)"
      ],
      "execution_count": 0,
      "outputs": []
    },
    {
      "cell_type": "code",
      "metadata": {
        "id": "4DeRr5mDjUp-",
        "colab_type": "code",
        "outputId": "6b70b9d5-b474-4233-defb-11f11480e483",
        "colab": {
          "base_uri": "https://localhost:8080/",
          "height": 697
        }
      },
      "source": [
        "# Check some data before optimizing\n",
        "# Will notice that as of now embeddings are just random real numbers.\n",
        "center = 2\n",
        "test = 3\n",
        "print(f'Center is \"{ind2Word[center]}\", test is \"{ind2Word[test]}\"')\n",
        "print(tf.exp(tf.tensordot(theta[center*2+1], theta[test*2], 1)))\n",
        "for i in range(len(word2Ind)):\n",
        "    print(f'Test word {i}={ind2Word[i]} >>', tf.exp(tf.tensordot(theta[center*2+1], theta[i*2], 1)))\n",
        "print('\\n')\n",
        "center = 6\n",
        "test = 7\n",
        "print(f'Center is \"{ind2Word[center]}\", test is \"{ind2Word[test]}\"')\n",
        "print(tf.exp(tf.tensordot(theta[center*2+1], theta[test*2], 1)))\n",
        "for i in range(len(word2Ind)):\n",
        "    print(f'Test word {i}={ind2Word[i]} >>', tf.exp(tf.tensordot(theta[center*2+1], theta[i*2], 1)))"
      ],
      "execution_count": 11,
      "outputs": [
        {
          "output_type": "stream",
          "text": [
            "Center is \"do\", test is \"not\"\n",
            "tf.Tensor(1.116146169619466, shape=(), dtype=float64)\n",
            "Test word 0=<start> >> tf.Tensor(1.1288971789500877, shape=(), dtype=float64)\n",
            "Test word 1=they >> tf.Tensor(1.1071297588475966, shape=(), dtype=float64)\n",
            "Test word 2=do >> tf.Tensor(1.0956330843438067, shape=(), dtype=float64)\n",
            "Test word 3=not >> tf.Tensor(1.116146169619466, shape=(), dtype=float64)\n",
            "Test word 4=play >> tf.Tensor(1.0905545227921793, shape=(), dtype=float64)\n",
            "Test word 5=games >> tf.Tensor(1.1071061567928535, shape=(), dtype=float64)\n",
            "Test word 6=. >> tf.Tensor(1.0999922273865987, shape=(), dtype=float64)\n",
            "Test word 7=<end> >> tf.Tensor(1.0823367373518211, shape=(), dtype=float64)\n",
            "Test word 8=she >> tf.Tensor(1.1132202869717551, shape=(), dtype=float64)\n",
            "Test word 9=enjoy >> tf.Tensor(1.0931868886201406, shape=(), dtype=float64)\n",
            "Test word 10=movies >> tf.Tensor(1.1054280115514683, shape=(), dtype=float64)\n",
            "Test word 11=you >> tf.Tensor(1.1085722458218914, shape=(), dtype=float64)\n",
            "Test word 12=like >> tf.Tensor(1.1221265734130785, shape=(), dtype=float64)\n",
            "Test word 13=politics >> tf.Tensor(1.1075488268359415, shape=(), dtype=float64)\n",
            "Test word 14=we >> tf.Tensor(1.0993974247747675, shape=(), dtype=float64)\n",
            "Test word 15=eat >> tf.Tensor(1.1008740289060956, shape=(), dtype=float64)\n",
            "Test word 16=meat >> tf.Tensor(1.1136024959532387, shape=(), dtype=float64)\n",
            "\n",
            "\n",
            "Center is \".\", test is \"<end>\"\n",
            "tf.Tensor(1.1044781124352534, shape=(), dtype=float64)\n",
            "Test word 0=<start> >> tf.Tensor(1.119210261397283, shape=(), dtype=float64)\n",
            "Test word 1=they >> tf.Tensor(1.1044349706504555, shape=(), dtype=float64)\n",
            "Test word 2=do >> tf.Tensor(1.100818451062435, shape=(), dtype=float64)\n",
            "Test word 3=not >> tf.Tensor(1.1079266027415995, shape=(), dtype=float64)\n",
            "Test word 4=play >> tf.Tensor(1.101679566386083, shape=(), dtype=float64)\n",
            "Test word 5=games >> tf.Tensor(1.106721168247565, shape=(), dtype=float64)\n",
            "Test word 6=. >> tf.Tensor(1.0977633102916085, shape=(), dtype=float64)\n",
            "Test word 7=<end> >> tf.Tensor(1.1044781124352534, shape=(), dtype=float64)\n",
            "Test word 8=she >> tf.Tensor(1.0989894267318663, shape=(), dtype=float64)\n",
            "Test word 9=enjoy >> tf.Tensor(1.103294737923197, shape=(), dtype=float64)\n",
            "Test word 10=movies >> tf.Tensor(1.1075491014419074, shape=(), dtype=float64)\n",
            "Test word 11=you >> tf.Tensor(1.09506832545193, shape=(), dtype=float64)\n",
            "Test word 12=like >> tf.Tensor(1.118151326138754, shape=(), dtype=float64)\n",
            "Test word 13=politics >> tf.Tensor(1.109579571210375, shape=(), dtype=float64)\n",
            "Test word 14=we >> tf.Tensor(1.1077500548227384, shape=(), dtype=float64)\n",
            "Test word 15=eat >> tf.Tensor(1.1071401272276504, shape=(), dtype=float64)\n",
            "Test word 16=meat >> tf.Tensor(1.1151381915999103, shape=(), dtype=float64)\n"
          ],
          "name": "stdout"
        }
      ]
    },
    {
      "cell_type": "markdown",
      "metadata": {
        "id": "wbOT6r6DT8bw",
        "colab_type": "text"
      },
      "source": [
        "The cost function is\n",
        "\n",
        "$$\n",
        "J(\\Theta) =\n",
        "\\min_{\\Theta(u,v)} -\\frac{1}{T} \\sum_{i=1}^{T} \\sum_{j \\in W(i)} \\log \\frac{\\text{exp}(u_j^T v_i)}{\\sum_{k \\in W} \\exp (u_k^T v_i)} =\n",
        "$$\n",
        "\n",
        "$$\n",
        "= \\min_{\\Theta(u,v)} -\\frac{1}{T} \\sum_{s \\in \\mathbf{S}} \\log \\frac{\\text{exp}(u_{s_1}^T v_{s_0})}{\\sum_{k \\in W} \\exp (u_k^T v_{s_0})}, \\, \\text{where}\\, s = [s_0, s_1]\n",
        "$$\n",
        "\n",
        "The vectors $u$ and $v$ are the embeddings for each word, in case it's the center word ($u$) or a context word ($v$)."
      ]
    },
    {
      "cell_type": "code",
      "metadata": {
        "id": "hFOHI158g-0p",
        "colab_type": "code",
        "colab": {}
      },
      "source": [
        "def compute_numerator(i, j, theta):\n",
        "    \"\"\"Compute numerator of the final term of the objetive function.\n",
        "\n",
        "    :param i: Is the row-index, in Theta, of the center word.\n",
        "    :param j: Is the row-index, in Theta, of the context word.\n",
        "    :param theta: Algorithm parameters.\n",
        "    \"\"\"\n",
        "    # Theta stacks all u and v vectors.\n",
        "    # [u_0; v_0; u_1; v_1; ...; u_2*i; v2*i]\n",
        "    # Hence u_j is at row 2*j\n",
        "    # v_i is at row 2*i + 1\n",
        "    return tf.exp(tf.tensordot(theta[2*j], theta[2*i + 1], 1))\n",
        "\n",
        "\n",
        "def compute_denominator(i, theta):\n",
        "    \"\"\"Compute the denominator of the sofmax when the center word is i.\n",
        "    \"\"\"\n",
        "    # Must use TF objects to differentiate.\n",
        "    tot = tf.convert_to_tensor(0., dtype='float64')\n",
        "\n",
        "    # Loop through all u's vectors\n",
        "    # Hence through Theta with step 2, starting from zero.\n",
        "    for w in np.arange(0, theta.shape[0], 2):\n",
        "        tot += tf.exp(tf.tensordot(theta[w], theta[2*i + 1], 1))\n",
        "    return tot\n",
        "\n",
        "\n",
        "def loss_element(i, j, theta):\n",
        "    \"\"\"Compute one element of the total sum that makes the objective function.\n",
        "    That means, for a single sample s = [i, j]\n",
        "\n",
        "    :param i: First item of the current sample. Also, word2Ind of the first word in the sample (center word).\n",
        "    :param j: Second item of the current sample. Also, word2Ind of the second word in the sample.\n",
        "    \"\"\"\n",
        "    denom = compute_denominator(i, theta)\n",
        "    numer = compute_numerator(i, j, theta)\n",
        "    return tf.math.log(numer / denom)\n",
        "\n",
        "\n",
        "def loss_total(theta, samples):\n",
        "    \"\"\"Compute the overall loss for the current value of the parameters.\n",
        "\n",
        "    :param theta: The algorithm parameters.\n",
        "    :param samples: List of lists with the shifting windows for training.\n",
        "    \"\"\"\n",
        "    loss = tf.convert_to_tensor(0., dtype='float64')\n",
        "    with tf.GradientTape() as gt:\n",
        "        gt.watch(theta)\n",
        "        for sample in samples:\n",
        "            i = sample[0] # this is always the center word\n",
        "            j = sample[1] # context word\n",
        "            loss -= loss_element(i, j, theta)\n",
        "        loss /= len(samples)  # 1/T\n",
        "    # now get gradient thanks to GradientTape\n",
        "    dTheta = gt.gradient(loss, theta)\n",
        "    return loss, dTheta"
      ],
      "execution_count": 0,
      "outputs": []
    },
    {
      "cell_type": "code",
      "metadata": {
        "id": "3bFjD29FT6qe",
        "colab_type": "code",
        "colab": {}
      },
      "source": [
        "def grad_desc(x0, samples, fn, lr, iterations=200):\n",
        "    \"\"\"Very basic implementation of gradient descent.\n",
        "\n",
        "    :param x0: Initial condition (Theta).\n",
        "    :param samples: List of training samples.\n",
        "    :param fn: Function to compute current loss and gradient.\n",
        "    :param lr: Learning rate (constant).\n",
        "    :param iter: Number of iterations.\n",
        "    \"\"\"\n",
        "\n",
        "    losses = np.zeros((iterations,), dtype='float32')\n",
        "\n",
        "    var = tf.convert_to_tensor(x0)\n",
        "    for n in range(iterations):\n",
        "        loss, dTheta = fn(var, samples)\n",
        "        losses[n] = loss\n",
        "        print(f'Epoch {n}, loss {loss.numpy()}')\n",
        "        var = var - (lr * dTheta / np.linalg.norm(dTheta))\n",
        "\n",
        "    return var, losses"
      ],
      "execution_count": 0,
      "outputs": []
    },
    {
      "cell_type": "code",
      "metadata": {
        "id": "LuoKm_Ikb1Qt",
        "colab_type": "code",
        "outputId": "b8880a19-6bad-4c1e-ba57-cadf6fc60316",
        "colab": {
          "base_uri": "https://localhost:8080/",
          "height": 1000
        }
      },
      "source": [
        "theta_opt, losses = grad_desc(theta, samples, loss_total, 0.2, iterations=100)"
      ],
      "execution_count": 14,
      "outputs": [
        {
          "output_type": "stream",
          "text": [
            "Epoch 0, loss 2.832354799216204\n",
            "Epoch 1, loss 2.817975410019655\n",
            "Epoch 2, loss 2.8029208497187943\n",
            "Epoch 3, loss 2.786414700888424\n",
            "Epoch 4, loss 2.7679671112308144\n",
            "Epoch 5, loss 2.7473155253354578\n",
            "Epoch 6, loss 2.7243384030577684\n",
            "Epoch 7, loss 2.6989992283639235\n",
            "Epoch 8, loss 2.671317734478463\n",
            "Epoch 9, loss 2.641356607931803\n",
            "Epoch 10, loss 2.609216221217832\n",
            "Epoch 11, loss 2.5750335506454216\n",
            "Epoch 12, loss 2.538983239470636\n",
            "Epoch 13, loss 2.501279473277997\n",
            "Epoch 14, loss 2.4621774552187063\n",
            "Epoch 15, loss 2.4219730904885717\n",
            "Epoch 16, loss 2.380999249864169\n",
            "Epoch 17, loss 2.3396169882819153\n",
            "Epoch 18, loss 2.298200728331357\n",
            "Epoch 19, loss 2.2571179490671396\n",
            "Epoch 20, loss 2.2167061279253804\n",
            "Epoch 21, loss 2.1772515783739688\n",
            "Epoch 22, loss 2.138974953584641\n",
            "Epoch 23, loss 2.102025657067379\n",
            "Epoch 24, loss 2.0664830418281066\n",
            "Epoch 25, loss 2.0323590235041022\n",
            "Epoch 26, loss 1.9995983436359432\n",
            "Epoch 27, loss 1.9680799395688628\n",
            "Epoch 28, loss 1.9376292450289994\n",
            "Epoch 29, loss 1.9080468569815632\n",
            "Epoch 30, loss 1.8791448003076627\n",
            "Epoch 31, loss 1.8507736701242832\n",
            "Epoch 32, loss 1.8228318442336644\n",
            "Epoch 33, loss 1.7952607250132075\n",
            "Epoch 34, loss 1.7680346400424793\n",
            "Epoch 35, loss 1.7411512184266602\n",
            "Epoch 36, loss 1.7146240976366782\n",
            "Epoch 37, loss 1.6884777094811072\n",
            "Epoch 38, loss 1.6627434108326102\n",
            "Epoch 39, loss 1.6374564375532115\n",
            "Epoch 40, loss 1.6126534865279418\n",
            "Epoch 41, loss 1.5883709377903217\n",
            "Epoch 42, loss 1.56464375962813\n",
            "Epoch 43, loss 1.5415050208713843\n",
            "Epoch 44, loss 1.5189857456526767\n",
            "Epoch 45, loss 1.4971146977923195\n",
            "Epoch 46, loss 1.4759176807153358\n",
            "Epoch 47, loss 1.4554161378284622\n",
            "Epoch 48, loss 1.4356251977977788\n",
            "Epoch 49, loss 1.4165516867605048\n",
            "Epoch 50, loss 1.3981928250889826\n",
            "Epoch 51, loss 1.3805361882473655\n",
            "Epoch 52, loss 1.3635610581778164\n",
            "Epoch 53, loss 1.3472407462735245\n",
            "Epoch 54, loss 1.331545129388603\n",
            "Epoch 55, loss 1.3164426674105414\n",
            "Epoch 56, loss 1.3019014883906537\n",
            "Epoch 57, loss 1.2878895216209592\n",
            "Epoch 58, loss 1.2743739538915106\n",
            "Epoch 59, loss 1.2613204234266482\n",
            "Epoch 60, loss 1.248692379672395\n",
            "Epoch 61, loss 1.2364509687404424\n",
            "Epoch 62, loss 1.224555673761268\n",
            "Epoch 63, loss 1.2129657546936738\n",
            "Epoch 64, loss 1.2016423200060549\n",
            "Epoch 65, loss 1.19055068052741\n",
            "Epoch 66, loss 1.1796625496823068\n",
            "Epoch 67, loss 1.1689576985935657\n",
            "Epoch 68, loss 1.1584248279449931\n",
            "Epoch 69, loss 1.148061617240898\n",
            "Epoch 70, loss 1.1378740861423329\n",
            "Epoch 71, loss 1.1278755059432324\n",
            "Epoch 72, loss 1.1180851189275933\n",
            "Epoch 73, loss 1.1085268721311432\n",
            "Epoch 74, loss 1.0992282776358997\n",
            "Epoch 75, loss 1.0902194076804432\n",
            "Epoch 76, loss 1.0815319522314832\n",
            "Epoch 77, loss 1.073198234172928\n",
            "Epoch 78, loss 1.0652501031229646\n",
            "Epoch 79, loss 1.0577177006740823\n",
            "Epoch 80, loss 1.0506281676519313\n",
            "Epoch 81, loss 1.0440043927893596\n",
            "Epoch 82, loss 1.0378638559395639\n",
            "Epoch 83, loss 1.0322175507152054\n",
            "Epoch 84, loss 1.0270689899125118\n",
            "Epoch 85, loss 1.022413438130252\n",
            "Epoch 86, loss 1.0182376538702358\n",
            "Epoch 87, loss 1.0145203896119959\n",
            "Epoch 88, loss 1.011233682327717\n",
            "Epoch 89, loss 1.0083447193738362\n",
            "Epoch 90, loss 1.0058185383208185\n",
            "Epoch 91, loss 1.003705992988969\n",
            "Epoch 92, loss 1.0090252798278565\n",
            "Epoch 93, loss 1.003829778508263\n",
            "Epoch 94, loss 1.0083433085156177\n",
            "Epoch 95, loss 1.0034927565238134\n",
            "Epoch 96, loss 1.0077687126698622\n",
            "Epoch 97, loss 1.003204204636387\n",
            "Epoch 98, loss 1.0073210877247731\n",
            "Epoch 99, loss 1.0029869459368783\n"
          ],
          "name": "stdout"
        }
      ]
    },
    {
      "cell_type": "code",
      "metadata": {
        "id": "pP_uZ6y9d3vE",
        "colab_type": "code",
        "outputId": "39d46f42-dcfa-4704-e9fa-db02199e21e7",
        "colab": {
          "base_uri": "https://localhost:8080/",
          "height": 279
        }
      },
      "source": [
        "# Look at the whole loss function during the optimization\n",
        "intv = np.arange(0, len(losses))\n",
        "_ = plt.plot(intv, losses[intv])\n",
        "_ = plt.xlabel('Optimization step')\n",
        "_ = plt.ylabel('Loss')"
      ],
      "execution_count": 15,
      "outputs": [
        {
          "output_type": "display_data",
          "data": {
            "image/png": "[encoded data removed]",
            "text/plain": [
              "<Figure size 432x288 with 1 Axes>"
            ]
          },
          "metadata": {
            "tags": [],
            "needs_background": "light"
          }
        }
      ]
    },
    {
      "cell_type": "code",
      "metadata": {
        "id": "3nEDgAhPfWxR",
        "colab_type": "code",
        "outputId": "42ceb542-0a8d-4f98-bf65-7b760ae39bab",
        "colab": {
          "base_uri": "https://localhost:8080/",
          "height": 279
        }
      },
      "source": [
        "# Zoom in the loss during the final optimization steps\n",
        "intv = np.arange(80, len(losses))\n",
        "_ = plt.plot(intv, losses[intv])\n",
        "_ = plt.xlabel('Optimization step')\n",
        "_ = plt.ylabel('Loss')"
      ],
      "execution_count": 16,
      "outputs": [
        {
          "output_type": "display_data",
          "data": {
            "image/png": "[encoded data removed]",
            "text/plain": [
              "<Figure size 432x288 with 1 Axes>"
            ]
          },
          "metadata": {
            "tags": [],
            "needs_background": "light"
          }
        }
      ]
    },
    {
      "cell_type": "markdown",
      "metadata": {
        "id": "r0gcpgvaJZNh",
        "colab_type": "text"
      },
      "source": [
        "The oscillations are a sign that we've got to stop the iterative procedure. It would possible to improve it by changing some hyperparameter (such as the learning rate)."
      ]
    },
    {
      "cell_type": "markdown",
      "metadata": {
        "id": "EiHIM4q-fdvJ",
        "colab_type": "text"
      },
      "source": [
        "## Show some samples"
      ]
    },
    {
      "cell_type": "code",
      "metadata": {
        "id": "SPG-vSczordJ",
        "colab_type": "code",
        "outputId": "c5181828-c78b-419c-9113-836ce112b79a",
        "colab": {
          "base_uri": "https://localhost:8080/",
          "height": 697
        }
      },
      "source": [
        "# Check some data after optimizing\n",
        "# Will notice that the dot product is now much higher for the context words\n",
        "# than for the others, for each given center word\n",
        "center = 2\n",
        "test = 3\n",
        "print(f'Center is \"{ind2Word[center]}\", test is \"{ind2Word[test]}\"')\n",
        "print(tf.exp(tf.tensordot(theta_opt[center*2+1], theta_opt[test*2], 1)))\n",
        "for i in range(len(word2Ind)):\n",
        "    print(f'Test word {i}={ind2Word[i]} >>', tf.exp(tf.tensordot(theta_opt[center*2+1], theta_opt[i*2], 1)))\n",
        "print('\\n')\n",
        "center = 6\n",
        "test = 7\n",
        "print(f'Center is \"{ind2Word[center]}\", test is \"{ind2Word[test]}\"')\n",
        "print(tf.exp(tf.tensordot(theta_opt[center*2+1], theta_opt[test*2], 1)))\n",
        "for i in range(len(word2Ind)):\n",
        "    print(f'Test word {i}={ind2Word[i]} >>', tf.exp(tf.tensordot(theta_opt[center*2+1], theta_opt[i*2], 1)))"
      ],
      "execution_count": 17,
      "outputs": [
        {
          "output_type": "stream",
          "text": [
            "Center is \"do\", test is \"not\"\n",
            "tf.Tensor(265.47320718665674, shape=(), dtype=float64)\n",
            "Test word 0=<start> >> tf.Tensor(0.31829067616650725, shape=(), dtype=float64)\n",
            "Test word 1=they >> tf.Tensor(96.39118135113179, shape=(), dtype=float64)\n",
            "Test word 2=do >> tf.Tensor(0.07839746275724133, shape=(), dtype=float64)\n",
            "Test word 3=not >> tf.Tensor(265.47320718665674, shape=(), dtype=float64)\n",
            "Test word 4=play >> tf.Tensor(0.18064613586322822, shape=(), dtype=float64)\n",
            "Test word 5=games >> tf.Tensor(0.3686308526571574, shape=(), dtype=float64)\n",
            "Test word 6=. >> tf.Tensor(0.07539733403450666, shape=(), dtype=float64)\n",
            "Test word 7=<end> >> tf.Tensor(0.018871837503493753, shape=(), dtype=float64)\n",
            "Test word 8=she >> tf.Tensor(96.34016252586977, shape=(), dtype=float64)\n",
            "Test word 9=enjoy >> tf.Tensor(0.019857738915322647, shape=(), dtype=float64)\n",
            "Test word 10=movies >> tf.Tensor(0.3100757746416495, shape=(), dtype=float64)\n",
            "Test word 11=you >> tf.Tensor(96.50989558451292, shape=(), dtype=float64)\n",
            "Test word 12=like >> tf.Tensor(0.07869309499908729, shape=(), dtype=float64)\n",
            "Test word 13=politics >> tf.Tensor(0.49626054421077886, shape=(), dtype=float64)\n",
            "Test word 14=we >> tf.Tensor(96.37172527931939, shape=(), dtype=float64)\n",
            "Test word 15=eat >> tf.Tensor(0.033494225834981795, shape=(), dtype=float64)\n",
            "Test word 16=meat >> tf.Tensor(0.3012141463330023, shape=(), dtype=float64)\n",
            "\n",
            "\n",
            "Center is \".\", test is \"<end>\"\n",
            "tf.Tensor(274.92931730696154, shape=(), dtype=float64)\n",
            "Test word 0=<start> >> tf.Tensor(0.08588802716852414, shape=(), dtype=float64)\n",
            "Test word 1=they >> tf.Tensor(0.05786111430850685, shape=(), dtype=float64)\n",
            "Test word 2=do >> tf.Tensor(0.04322374740322572, shape=(), dtype=float64)\n",
            "Test word 3=not >> tf.Tensor(0.39507544095426916, shape=(), dtype=float64)\n",
            "Test word 4=play >> tf.Tensor(0.11273540032063183, shape=(), dtype=float64)\n",
            "Test word 5=games >> tf.Tensor(68.74444147080102, shape=(), dtype=float64)\n",
            "Test word 6=. >> tf.Tensor(0.08634527179918267, shape=(), dtype=float64)\n",
            "Test word 7=<end> >> tf.Tensor(274.92931730696154, shape=(), dtype=float64)\n",
            "Test word 8=she >> tf.Tensor(0.06846548657072914, shape=(), dtype=float64)\n",
            "Test word 9=enjoy >> tf.Tensor(0.37378816394006187, shape=(), dtype=float64)\n",
            "Test word 10=movies >> tf.Tensor(68.6405019060012, shape=(), dtype=float64)\n",
            "Test word 11=you >> tf.Tensor(0.06454379179761699, shape=(), dtype=float64)\n",
            "Test word 12=like >> tf.Tensor(0.06686752998414455, shape=(), dtype=float64)\n",
            "Test word 13=politics >> tf.Tensor(68.80146901636705, shape=(), dtype=float64)\n",
            "Test word 14=we >> tf.Tensor(0.0640831898828426, shape=(), dtype=float64)\n",
            "Test word 15=eat >> tf.Tensor(0.195159974968725, shape=(), dtype=float64)\n",
            "Test word 16=meat >> tf.Tensor(68.6821280228963, shape=(), dtype=float64)\n"
          ],
          "name": "stdout"
        }
      ]
    }
  ]
}